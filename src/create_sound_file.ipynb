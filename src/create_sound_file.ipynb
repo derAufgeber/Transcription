{
 "cells": [
  {
   "cell_type": "code",
   "execution_count": 3,
   "metadata": {},
   "outputs": [],
   "source": [
    "\n",
    "import cv2\n",
    "import numpy as np"
   ]
  },
  {
   "cell_type": "code",
   "execution_count": 2,
   "metadata": {},
   "outputs": [
    {
     "name": "stdout",
     "output_type": "stream",
     "text": [
      "Defaulting to user installation because normal site-packages is not writeable\n",
      "Collecting opencv-python\n",
      "  Downloading opencv_python-4.11.0.86-cp37-abi3-macosx_13_0_arm64.whl (37.3 MB)\n",
      "\u001b[K     |████████████████████████████████| 37.3 MB 12.4 MB/s eta 0:00:01\n",
      "\u001b[?25hRequirement already satisfied: numpy>=1.17.0 in /Users/lucasschneider/Library/Python/3.9/lib/python/site-packages (from opencv-python) (2.0.2)\n",
      "Installing collected packages: opencv-python\n",
      "Successfully installed opencv-python-4.11.0.86\n",
      "\u001b[33mWARNING: You are using pip version 21.2.4; however, version 25.0.1 is available.\n",
      "You should consider upgrading via the '/Library/Developer/CommandLineTools/usr/bin/python3 -m pip install --upgrade pip' command.\u001b[0m\n",
      "Defaulting to user installation because normal site-packages is not writeable\n",
      "Collecting MIDIUtil\n",
      "  Downloading MIDIUtil-1.2.1.tar.gz (1.0 MB)\n",
      "\u001b[K     |████████████████████████████████| 1.0 MB 4.5 MB/s eta 0:00:01\n",
      "\u001b[?25hCollecting midi2audio\n",
      "  Downloading midi2audio-0.1.1-py2.py3-none-any.whl (8.7 kB)\n",
      "Building wheels for collected packages: MIDIUtil\n",
      "  Building wheel for MIDIUtil (setup.py) ... \u001b[?25ldone\n",
      "\u001b[?25h  Created wheel for MIDIUtil: filename=MIDIUtil-1.2.1-py3-none-any.whl size=54567 sha256=df4971d93b8f7459d09ea871e784eb9ae9c0f1829fcce4d5eda98a547d67a79d\n",
      "  Stored in directory: /Users/lucasschneider/Library/Caches/pip/wheels/52/c2/30/ce4f23db030a863977bc328651b914261581717167aabfcd47\n",
      "Successfully built MIDIUtil\n",
      "Installing collected packages: MIDIUtil, midi2audio\n",
      "Successfully installed MIDIUtil-1.2.1 midi2audio-0.1.1\n",
      "\u001b[33mWARNING: You are using pip version 21.2.4; however, version 25.0.1 is available.\n",
      "You should consider upgrading via the '/Library/Developer/CommandLineTools/usr/bin/python3 -m pip install --upgrade pip' command.\u001b[0m\n"
     ]
    }
   ],
   "source": [
    "\n",
    "!pip3 install opencv-python\n",
    "!pip3 install MIDIUtil midi2audio"
   ]
  },
  {
   "cell_type": "code",
   "execution_count": 6,
   "metadata": {},
   "outputs": [],
   "source": [
    "from midiutil import MIDIFile\n",
    "from midi2audio import FluidSynth"
   ]
  },
  {
   "cell_type": "code",
   "execution_count": 11,
   "metadata": {},
   "outputs": [],
   "source": [
    "import os\n",
    "os.environ[\"PATH\"] += os.pathsep + \"/opt/homebrew/bin\"\n"
   ]
  },
  {
   "cell_type": "code",
   "execution_count": 15,
   "metadata": {},
   "outputs": [
    {
     "name": "stdout",
     "output_type": "stream",
     "text": [
      "FluidSynth runtime version 2.4.4\n",
      "Copyright (C) 2000-2025 Peter Hanappe and others.\n",
      "Distributed under the LGPL license.\n",
      "SoundFont(R) is a registered trademark of Creative Technology Ltd.\n",
      "\n",
      "Rendering audio to file 'melody.wav'..\n",
      "Done: melody.wav created.\n"
     ]
    },
    {
     "name": "stderr",
     "output_type": "stream",
     "text": [
      "fluidsynth: panic: An error occurred while reading from stdin.\n",
      "fluidsynth: panic: An error occurred while reading from stdin.\n"
     ]
    }
   ],
   "source": [
    "from midiutil import MIDIFile\n",
    "from midi2audio import FluidSynth\n",
    "\n",
    "# Step 1: Create MIDI\n",
    "midi = MIDIFile(1)\n",
    "track = 0\n",
    "time = 0\n",
    "midi.addTempo(track, time, 120)\n",
    "\n",
    "channel = 0\n",
    "volume = 100\n",
    "duration = 1  # seconds\n",
    "\n",
    "# Melody notes: C4, D4, E4, G4\n",
    "notes = [60, 62, 64, 67]\n",
    "\n",
    "for i, note in enumerate(notes):\n",
    "    midi.addNote(track, channel, note, time + i * duration, duration, volume)\n",
    "\n",
    "# Save MIDI file\n",
    "midi_file = \"melody.mid\"\n",
    "with open(midi_file, \"wb\") as output_file:\n",
    "    midi.writeFile(output_file)\n",
    "\n",
    "# Step 2: Convert MIDI to audio\n",
    "soundfont = \"/Users/lucasschneider/Desktop/Privat/Transcription_Project/Transcription/FluidR3_GM.sf2\"\n",
    "fs = FluidSynth(soundfont)\n",
    "fs.midi_to_audio(midi_file, \"melody.wav\")\n",
    "\n",
    "print(\"Done: melody.wav created.\")\n"
   ]
  },
  {
   "cell_type": "code",
   "execution_count": null,
   "metadata": {},
   "outputs": [],
   "source": []
  }
 ],
 "metadata": {
  "kernelspec": {
   "display_name": "Python 3",
   "language": "python",
   "name": "python3"
  },
  "language_info": {
   "codemirror_mode": {
    "name": "ipython",
    "version": 3
   },
   "file_extension": ".py",
   "mimetype": "text/x-python",
   "name": "python",
   "nbconvert_exporter": "python",
   "pygments_lexer": "ipython3",
   "version": "3.9.6"
  }
 },
 "nbformat": 4,
 "nbformat_minor": 2
}
