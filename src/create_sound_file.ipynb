{
 "cells": [
  {
   "cell_type": "code",
   "execution_count": 3,
   "metadata": {},
   "outputs": [],
   "source": [
    "import cv2\n",
    "import numpy as np"
   ]
  },
  {
   "cell_type": "code",
   "execution_count": 4,
   "metadata": {},
   "outputs": [],
   "source": [
    "cv2.imshow(\"\", np.random.random([100, 100, 3]))"
   ]
  },
  {
   "cell_type": "code",
   "execution_count": 6,
   "metadata": {},
   "outputs": [
    {
     "name": "stdout",
     "output_type": "stream",
     "text": [
      "FluidSynth runtime version 2.2.5\n",
      "Copyright (C) 2000-2022 Peter Hanappe and others.\n",
      "Distributed under the LGPL license.\n",
      "SoundFont(R) is a registered trademark of Creative Technology Ltd.\n",
      "\n",
      "Rendering audio to file 'melody.wav'..\n",
      "Done: melody.wav created.\n"
     ]
    }
   ],
   "source": [
    "from midiutil import MIDIFile\n",
    "from midi2audio import FluidSynth\n",
    "\n",
    "# Step 1: Create MIDI\n",
    "midi = MIDIFile(1)\n",
    "track = 0\n",
    "time = 0\n",
    "midi.addTempo(track, time, 120)\n",
    "\n",
    "channel = 0\n",
    "volume = 100\n",
    "duration = 1  # seconds\n",
    "\n",
    "# Melody notes: C4, D4, E4, G4\n",
    "notes = [60, 62, 64, 67]\n",
    "\n",
    "for i, note in enumerate(notes):\n",
    "    midi.addNote(track, channel, note, time + i * duration, duration, volume)\n",
    "\n",
    "# Save MIDI file\n",
    "midi_file = \"melody.mid\"\n",
    "with open(midi_file, \"wb\") as output_file:\n",
    "    midi.writeFile(output_file)\n",
    "\n",
    "# Step 2: Convert MIDI to audio\n",
    "soundfont = \"/usr/share/sounds/sf2/FluidR3_GM.sf2\"\n",
    "fs = FluidSynth(soundfont)\n",
    "fs.midi_to_audio(midi_file, \"melody.wav\")\n",
    "\n",
    "print(\"Done: melody.wav created.\")\n"
   ]
  },
  {
   "cell_type": "code",
   "execution_count": null,
   "metadata": {},
   "outputs": [],
   "source": []
  }
 ],
 "metadata": {
  "kernelspec": {
   "display_name": "base",
   "language": "python",
   "name": "python3"
  },
  "language_info": {
   "codemirror_mode": {
    "name": "ipython",
    "version": 3
   },
   "file_extension": ".py",
   "mimetype": "text/x-python",
   "name": "python",
   "nbconvert_exporter": "python",
   "pygments_lexer": "ipython3",
   "version": "3.10.13"
  }
 },
 "nbformat": 4,
 "nbformat_minor": 2
}
