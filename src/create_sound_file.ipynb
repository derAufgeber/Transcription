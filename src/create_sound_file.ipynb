{
    "cells": [
        {
            "cell_type": "code",
            "execution_count": 1,
            "metadata": {},
            "outputs": [],
            "source": [
                "import cv2\n",
                "import numpy as np"
            ]
        },
        {
            "cell_type": "code",
            "execution_count": 2,
            "metadata": {},
            "outputs": [],
            "source": [
                "cv2.imshow(\"\", np.random.random([100, 100, 3]))"
            ]
        },
        {
            "cell_type": "code",
            "execution_count": 27,
            "metadata": {},
            "outputs": [
                {
                    "name": "stdout",
                    "output_type": "stream",
                    "text": [
                        "FluidSynth runtime version 2.2.5\n",
                        "Copyright (C) 2000-2022 Peter Hanappe and others.\n",
                        "Distributed under the LGPL license.\n",
                        "SoundFont(R) is a registered trademark of Creative Technology Ltd.\n",
                        "\n",
                        "Rendering audio to file '../output_1/melody.wav'..\n",
                        "Done: saved to ../output_1\n",
                        "FluidSynth runtime version 2.2.5\n",
                        "Copyright (C) 2000-2022 Peter Hanappe and others.\n",
                        "Distributed under the LGPL license.\n",
                        "SoundFont(R) is a registered trademark of Creative Technology Ltd.\n",
                        "\n",
                        "Rendering audio to file '../output_2/melody.wav'..\n",
                        "Done: saved to ../output_2\n"
                    ]
                }
            ],
            "source": [
                "import numpy as np\n",
                "import os\n",
                "from midiutil import MIDIFile\n",
                "from midi2audio import FluidSynth\n",
                "from pathlib import Path\n",
                "from scipy.io import wavfile\n",
                "\n",
                "def create_melody(sample_rate, bpm, duration_seconds, notes, output_folder):\n",
                "    Path(output_folder).mkdir(parents=True, exist_ok=True)\n",
                "\n",
                "    # Convert duration to beats\n",
                "    seconds_per_beat = 60 / bpm\n",
                "    duration_beats = duration_seconds / seconds_per_beat\n",
                "\n",
                "    # Step 1: Create MIDI\n",
                "    midi = MIDIFile(1)\n",
                "    track = 0\n",
                "    time = 0\n",
                "    midi.addTempo(track, time, bpm)\n",
                "\n",
                "    channel = 0\n",
                "    volume = 100\n",
                "\n",
                "    for i, note in enumerate(notes):\n",
                "        start_time_beats = i * duration_beats\n",
                "        midi.addNote(track, channel, note, start_time_beats, duration_beats, volume)\n",
                "\n",
                "    midi_file = os.path.join(output_folder, \"melody.mid\")\n",
                "    with open(midi_file, \"wb\") as output_file:\n",
                "        midi.writeFile(output_file)\n",
                "\n",
                "    # Step 2: Convert MIDI to audio\n",
                "    soundfont = \"/usr/share/sounds/sf2/FluidR3_GM.sf2\"\n",
                "    fs = FluidSynth(soundfont, sample_rate=sample_rate)\n",
                "    wav_file = os.path.join(output_folder, \"melody.wav\")\n",
                "    fs.midi_to_audio(midi_file, wav_file)\n",
                "\n",
                "    # Step 3: Create note mapping array\n",
                "    total_duration = duration_seconds * len(notes)\n",
                "    n_samples = int(total_duration * sample_rate)\n",
                "    note_array = np.zeros(n_samples, dtype=int)\n",
                "\n",
                "    for i, note in enumerate(notes):\n",
                "        start_sample = int(i * duration_seconds * sample_rate)\n",
                "        end_sample = int((i + 1) * duration_seconds * sample_rate)\n",
                "        note_array[start_sample:end_sample] = note\n",
                "\n",
                "    note_array_file = os.path.join(output_folder, \"melody_notes.npy\")\n",
                "    np.save(note_array_file, note_array)\n",
                "\n",
                "    # Step 4: Clean-up WAV length\n",
                "    wav_sample_rate, wav_data = wavfile.read(wav_file)\n",
                "\n",
                "    expected_samples = n_samples\n",
                "    if wav_data.shape[0] > expected_samples:\n",
                "        wav_data = wav_data[:expected_samples]\n",
                "        wavfile.write(wav_file, wav_sample_rate, wav_data)\n",
                "\n",
                "    # Final check\n",
                "    assert wav_data.shape[0] == len(note_array), (\n",
                "        f\"Length mismatch: WAV samples = {wav_data.shape[0]}, Note array = {len(note_array)}\"\n",
                "    )\n",
                "\n",
                "    print(f\"Done: saved to {output_folder}\")\n",
                "\n",
                "# Example usage:\n",
                "create_melody(sample_rate=44100, bpm=120, duration_seconds=1, notes=[60,62], output_folder=\"../output_1\")\n",
                "create_melody(sample_rate=44100, bpm=120, duration_seconds=1, notes=[64,66], output_folder=\"../output_2\")\n"
            ]
        },
        {
            "cell_type": "code",
            "execution_count": null,
            "metadata": {},
            "outputs": [],
            "source": []
        }
    ],
    "metadata": {
        "kernelspec": {
            "display_name": "base",
            "language": "python",
            "name": "python3"
        },
        "language_info": {
            "codemirror_mode": {
                "name": "ipython",
                "version": 3
            },
            "file_extension": ".py",
            "mimetype": "text/x-python",
            "name": "python",
            "nbconvert_exporter": "python",
            "pygments_lexer": "ipython3",
            "version": "3.10.13"
        }
    },
    "nbformat": 4,
    "nbformat_minor": 2
}